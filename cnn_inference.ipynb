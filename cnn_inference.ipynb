{
 "cells": [
  {
   "cell_type": "code",
   "execution_count": 1,
   "id": "d4234583",
   "metadata": {},
   "outputs": [],
   "source": [
    "#cnn_model.pb\n",
    "import logging, os\n",
    "logging.disable(logging.WARNING)\n",
    "import os\n",
    "os.environ['TF_CPP_MIN_LOG_LEVEL'] = '3' \n",
    "import tensorflow as tf\n",
    "import tensorflow_io as tfio\n",
    "tf.get_logger().setLevel('INFO')\n",
    "\n",
    "reloaded_model = tf.saved_model.load('cnn_model')"
   ]
  },
  {
   "cell_type": "code",
   "execution_count": 2,
   "id": "8ca28b16",
   "metadata": {},
   "outputs": [],
   "source": [
    "@tf.function\n",
    "def load_wav_16k_mono(filename):\n",
    "    \"\"\" Load a WAV file, convert it to a float tensor, resample to 16 kHz single-channel audio. \"\"\"\n",
    "    file_contents = tf.io.read_file(filename)\n",
    "    wav, sample_rate = tf.audio.decode_wav(\n",
    "          file_contents,\n",
    "          desired_channels=1)\n",
    "    wav = tf.squeeze(wav, axis=-1)\n",
    "    sample_rate = tf.cast(sample_rate, dtype=tf.int64)\n",
    "    wav = tfio.audio.resample(wav, rate_in=sample_rate, rate_out=16000)\n",
    "    return wav"
   ]
  },
  {
   "cell_type": "code",
   "execution_count": 3,
   "id": "eb853e36",
   "metadata": {
    "scrolled": true
   },
   "outputs": [
    {
     "name": "stdout",
     "output_type": "stream",
     "text": [
      "['./data/dog_1.wav', 'hayvan']\n",
      "['./data/dog_2.wav', 'hayvan']\n",
      "['./data/human_english.wav', 'insan']\n",
      "['./data/human_english2.wav', 'insan']\n",
      "['./data/engine_1.wav', 'arac']\n",
      "['./data/engine_2.wav', 'arac']\n"
     ]
    }
   ],
   "source": [
    "files = [\n",
    "'./data/dog_1.wav',\n",
    "'./data/dog_2.wav',\n",
    "'./data/human_english.wav',\n",
    "'./data/human_english2.wav',\n",
    "'./data/engine_1.wav',\n",
    "'./data/engine_2.wav'\n",
    "]\n",
    "\n",
    "my_classes = ['insan', 'hayvan', 'arac', 'arkaplan']\n",
    "\n",
    "for file in files:\n",
    "    \n",
    "    testing_wav_data = load_wav_16k_mono(file)\n",
    "\n",
    "    reloaded_results = reloaded_model(testing_wav_data)\n",
    "    predicted = my_classes[tf.math.argmax(reloaded_results)]\n",
    "\n",
    "    print([file, predicted])"
   ]
  }
 ],
 "metadata": {
  "kernelspec": {
   "display_name": "Python 3 (ipykernel)",
   "language": "python",
   "name": "python3"
  },
  "language_info": {
   "codemirror_mode": {
    "name": "ipython",
    "version": 3
   },
   "file_extension": ".py",
   "mimetype": "text/x-python",
   "name": "python",
   "nbconvert_exporter": "python",
   "pygments_lexer": "ipython3",
   "version": "3.9.0"
  }
 },
 "nbformat": 4,
 "nbformat_minor": 5
}
